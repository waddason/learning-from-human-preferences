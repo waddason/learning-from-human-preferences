{
 "cells": [
  {
   "cell_type": "markdown",
   "metadata": {},
   "source": [
    "# Log visualisation\n"
   ]
  },
  {
   "cell_type": "code",
   "execution_count": 1,
   "metadata": {},
   "outputs": [],
   "source": [
    "%load_ext tensorboard"
   ]
  },
  {
   "cell_type": "markdown",
   "metadata": {},
   "source": []
  },
  {
   "cell_type": "code",
   "execution_count": 7,
   "metadata": {},
   "outputs": [
    {
     "data": {
      "text/plain": [
       "Reusing TensorBoard on port 6007 (pid 139328), started 0:00:03 ago. (Use '!kill 139328' to kill it.)"
      ]
     },
     "metadata": {},
     "output_type": "display_data"
    },
    {
     "data": {
      "text/html": [
       "\n",
       "      <iframe id=\"tensorboard-frame-4bd78cf80e997414\" width=\"100%\" height=\"800\" frameborder=\"0\">\n",
       "      </iframe>\n",
       "      <script>\n",
       "        (function() {\n",
       "          const frame = document.getElementById(\"tensorboard-frame-4bd78cf80e997414\");\n",
       "          const url = new URL(\"http://localhost\");\n",
       "          url.port = 6007;\n",
       "          frame.src = url;\n",
       "        })();\n",
       "      </script>\n",
       "  "
      ],
      "text/plain": [
       "<IPython.core.display.HTML object>"
      ]
     },
     "metadata": {},
     "output_type": "display_data"
    }
   ],
   "source": [
    "%tensorboard --logdir runs/pong_original_4408c85/ --port 6007\n"
   ]
  },
  {
   "cell_type": "code",
   "execution_count": 5,
   "metadata": {},
   "outputs": [],
   "source": [
    "!kill 72726\n"
   ]
  },
  {
   "cell_type": "code",
   "execution_count": 3,
   "metadata": {},
   "outputs": [
    {
     "data": {
      "text/plain": [
       "ERROR: Failed to launch TensorBoard (exited with 1).\n",
       "Contents of stderr:\n",
       "Address already in use\n",
       "Port 6006 is in use by another program. Either identify and stop that program, or start the server with a different port."
      ]
     },
     "metadata": {},
     "output_type": "display_data"
    }
   ],
   "source": [
    "# Training of movingodt\n",
    "%tensorboard --logdir runs/PongSynth_3fca07c/\n",
    "\n"
   ]
  },
  {
   "cell_type": "code",
   "execution_count": 4,
   "metadata": {},
   "outputs": [
    {
     "data": {
      "text/html": [
       "\n",
       "      <iframe id=\"tensorboard-frame-8741b69afb6064b4\" width=\"100%\" height=\"800\" frameborder=\"0\">\n",
       "      </iframe>\n",
       "      <script>\n",
       "        (function() {\n",
       "          const frame = document.getElementById(\"tensorboard-frame-8741b69afb6064b4\");\n",
       "          const url = new URL(\"/\", window.location);\n",
       "          url.port = 6008;\n",
       "          frame.src = url;\n",
       "        })();\n",
       "      </script>\n",
       "  "
      ],
      "text/plain": [
       "<IPython.core.display.HTML object>"
      ]
     },
     "metadata": {},
     "output_type": "display_data"
    }
   ],
   "source": [
    "%tensorboard --logdir runs/1738594711_4408c85 --port 6008\n"
   ]
  },
  {
   "cell_type": "markdown",
   "metadata": {},
   "source": [
    "## Show the networks"
   ]
  },
  {
   "cell_type": "markdown",
   "metadata": {},
   "source": []
  },
  {
   "cell_type": "code",
   "execution_count": 1,
   "metadata": {},
   "outputs": [],
   "source": [
    "import tensorflow as tf\n",
    "from tensorflow.keras import layers, Sequential\n",
    "\n",
    "from reward_predictor_core_network import net_cnn, net_moving_dot_features\n",
    "import visualkeras"
   ]
  },
  {
   "cell_type": "code",
   "execution_count": 2,
   "metadata": {},
   "outputs": [],
   "source": [
    "from tensorflow.keras.layers import Dense, Conv2D, Flatten, Dropout, MaxPooling2D, ZeroPadding2D\n",
    "from collections import defaultdict\n",
    "\n",
    "color_map = defaultdict(dict)\n",
    "color_map[Conv2D]['fill'] = 'orange'\n",
    "color_map[ZeroPadding2D]['fill'] = 'gray'\n",
    "color_map[Dropout]['fill'] = 'pink'\n",
    "color_map[MaxPooling2D]['fill'] = 'red'\n",
    "color_map[Dense]['fill'] = 'green'\n",
    "color_map[Flatten]['fill'] = 'teal'\n",
    "\n",
    "#visualkeras.layered_view(model, color_map=color_map)"
   ]
  },
  {
   "cell_type": "code",
   "execution_count": 12,
   "metadata": {},
   "outputs": [
    {
     "name": "stderr",
     "output_type": "stream",
     "text": [
      "/home/waddason/miniconda3/envs/py3.7/lib/python3.7/site-packages/visualkeras/layered.py:86: UserWarning: The legend_text_spacing_offset parameter is deprecated and will be removed in a future release.\n",
      "  warnings.warn(\"The legend_text_spacing_offset parameter is deprecated and will be removed in a future release.\")\n"
     ]
    },
    {
     "data": {
      "image/png": "[encoded data removed]",
      "text/plain": [
       "<PIL.Image.Image image mode=RGBA size=107x27 at 0x7AE21B5F2A10>"
      ]
     },
     "execution_count": 12,
     "metadata": {},
     "output_type": "execute_result"
    }
   ],
   "source": [
    "model = Sequential([\n",
    "    Dense(64, activation='relu', input_shape=(4,)),\n",
    "    Dense(64, activation='relu'),\n",
    "    Dense(1)    \n",
    "])\n",
    "visualkeras.layered_view(model, color_map=color_map)"
   ]
  },
  {
   "cell_type": "code",
   "execution_count": 3,
   "metadata": {},
   "outputs": [
    {
     "name": "stdout",
     "output_type": "stream",
     "text": [
      "WARNING:tensorflow:From /home/waddason/miniconda3/envs/py3.7/lib/python3.7/site-packages/tensorflow_core/python/ops/resource_variable_ops.py:1630: calling BaseResourceVariable.__init__ (from tensorflow.python.ops.resource_variable_ops) with constraint is deprecated and will be removed in a future version.\n",
      "Instructions for updating:\n",
      "If using Keras pass *_constraint arguments to layers.\n"
     ]
    }
   ],
   "source": [
    "batchnorm =  True\n",
    "dropout = 0.5\n",
    "training = False\n",
    "\n",
    "model = Sequential()\n",
    "model.add(layers.InputLayer(input_shape=(84, 84, 4)))  # Assuming input shape is (height, width, channels)\n",
    "model.add(layers.Lambda(lambda x: x / 255.0))\n",
    "model.add(visualkeras.SpacingDummyLayer())\n",
    "model.add(layers.Conv2D(16, (7, 7), strides=3, activation=tf.keras.layers.LeakyReLU(alpha=0.01)))\n",
    "if batchnorm:\n",
    "    model.add(layers.BatchNormalization())\n",
    "model.add(layers.Dropout(dropout))\n",
    "model.add(visualkeras.SpacingDummyLayer())\n",
    "model.add(layers.Conv2D(16, (5, 5), strides=2, activation=tf.keras.layers.LeakyReLU(alpha=0.01)))\n",
    "if batchnorm:\n",
    "    model.add(layers.BatchNormalization())\n",
    "model.add(layers.Dropout(dropout))\n",
    "model.add(visualkeras.SpacingDummyLayer())\n",
    "model.add(layers.Conv2D(16, (3, 3), strides=1, activation=tf.keras.layers.LeakyReLU(alpha=0.01)))\n",
    "if batchnorm:\n",
    "    model.add(layers.BatchNormalization())\n",
    "model.add(layers.Dropout(dropout))\n",
    "model.add(visualkeras.SpacingDummyLayer())\n",
    "model.add(layers.Conv2D(16, (3, 3), strides=1, activation=tf.keras.layers.LeakyReLU(alpha=0.01)))\n",
    "if batchnorm:\n",
    "    model.add(layers.BatchNormalization())\n",
    "\n",
    "model.add(layers.Flatten())\n",
    "model.add(layers.Dense(64, activation='relu'))\n",
    "model.add(layers.Dense(1))"
   ]
  },
  {
   "cell_type": "code",
   "execution_count": 4,
   "metadata": {},
   "outputs": [
    {
     "name": "stderr",
     "output_type": "stream",
     "text": [
      "/home/waddason/miniconda3/envs/py3.7/lib/python3.7/site-packages/visualkeras/layered.py:86: UserWarning: The legend_text_spacing_offset parameter is deprecated and will be removed in a future release.\n",
      "  warnings.warn(\"The legend_text_spacing_offset parameter is deprecated and will be removed in a future release.\")\n"
     ]
    },
    {
     "data": {
      "image/png": "[encoded data removed]",
      "text/plain": [
       "<PIL.Image.Image image mode=RGBA size=778x484 at 0x7AE2474CFE50>"
      ]
     },
     "execution_count": 4,
     "metadata": {},
     "output_type": "execute_result"
    }
   ],
   "source": [
    "from PIL import ImageFont\n",
    "\n",
    "font = ImageFont.truetype(\"/home/waddason/.local/share/fonts/InconsolataNerdFontMono-Regular.ttf\", 14)  # using comic sans is strictly prohibited!\n",
    "visualkeras.layered_view(model, color_map=color_map, legend=True, to_file=\"/home/waddason/Documents/Git_Reps/M2DS_2024-2025/20.Reinforcement-learning/Project 2024/ProjectReport/figures/NN_reward_predictor.png\")"
   ]
  },
  {
   "cell_type": "code",
   "execution_count": 5,
   "metadata": {},
   "outputs": [
    {
     "data": {
      "image/png": "[encoded data removed]",
      "text/plain": [
       "<PIL.Image.Image image mode=RGBA size=818x556 at 0x7AE275636E50>"
      ]
     },
     "execution_count": 5,
     "metadata": {},
     "output_type": "execute_result"
    }
   ],
   "source": [
    "def text_callable(layer_index, layer):\n",
    "    # Every other piece of text is drawn above the layer, the first one below\n",
    "    above = bool(layer_index%2)\n",
    "\n",
    "\n",
    "    # Get the output shape of the layer\n",
    "    output_shape = [x for x in list(layer.output_shape) if x is not None]\n",
    "\n",
    "    # If the output shape is a list of tuples, we only take the first one\n",
    "    if isinstance(output_shape[0], tuple):\n",
    "        output_shape = list(output_shape[0])\n",
    "        output_shape = [x for x in output_shape if x is not None]\n",
    "\n",
    "    # Variable to store text which will be drawn    \n",
    "    output_shape_txt = \"\"\n",
    "\n",
    "    # Create a string representation of the output shape\n",
    "    for ii in range(len(output_shape)):\n",
    "        output_shape_txt += str(output_shape[ii])\n",
    "        if ii < len(output_shape) - 1: # Add an x between dimensions, e.g. 3x3\n",
    "            output_shape_txt += \"x\"\n",
    "        #if ii == len(output_shape) - 2: # Add a newline between the last two dimensions, e.g. 3x3 \\n 64\n",
    "        #    output_shape_txt += \"\\n\"\n",
    "\n",
    "    # Add the name of the layer to the text, as a new line\n",
    "    # output_shape_txt += f\"\\n{layer.name}\"\n",
    "\n",
    "    # Return the text value and if it should be drawn above the layer\n",
    "    return output_shape_txt, above\n",
    "\n",
    "to_file=\"/home/waddason/Documents/Git_Reps/M2DS_2024-2025/20.Reinforcement-learning/Project 2024/ProjectReport/figures/NN_reward_predictor_with_dim.png\"\n",
    "\n",
    "visualkeras.layered_view(model, padding=30, font=font, color_map=color_map, text_callable=text_callable, legend=True, to_file=to_file)"
   ]
  },
  {
   "cell_type": "code",
   "execution_count": 6,
   "metadata": {},
   "outputs": [],
   "source": [
    "from tf_agents.distributions import gumbel_softmax\n",
    "class CnnPolicy(object):\n",
    "    \"\"\"Modèle définit pour Pong dans le fichier a2c.a2c.policies.py\n",
    "        Transformé pour être visualisé avec visualkeras\"\"\"\n",
    "\n",
    "    def __init__(self, sess, ob_space, ac_space, nenv, nsteps, nstack, reuse=False):\n",
    "        nbatch = nenv * nsteps\n",
    "        nh, nw, nc = ob_space.shape\n",
    "        ob_shape = (nbatch, nh, nw, nc * nstack)\n",
    "        nact = ac_space.n\n",
    "        X = tf.placeholder(tf.uint8, ob_shape)  # obs\n",
    "\n",
    "        model = Sequential()\n",
    "        model.add(layers.InputLayer(input_shape=(nh, nw, nc * nstack)))\n",
    "        model.add(layers.Lambda(lambda x: tf.cast(x, tf.float32) / 255.0))\n",
    "        model.add(visualkeras.SpacingDummyLayer())\n",
    "        model.add(layers.Conv2D(32, (8, 8), strides=4, activation='relu'))\n",
    "        model.add(visualkeras.SpacingDummyLayer())\n",
    "        model.add(layers.Conv2D(32, (8, 8), strides=4, activation='relu'))\n",
    "        model.add(layers.Flatten())\n",
    "        model.add(layers.Dense(512, activation='relu'))\n",
    "        model.add(layers.Dense(6, activation=None))\n",
    "        model.add(layers.Dense(1, activation=None))\n",
    "\n",
    "        self.model = model"
   ]
  },
  {
   "cell_type": "code",
   "execution_count": 9,
   "metadata": {},
   "outputs": [
    {
     "name": "stderr",
     "output_type": "stream",
     "text": [
      "2025-02-05 23:35:37.039464: I tensorflow/core/common_runtime/gpu/gpu_device.cc:1159] Device interconnect StreamExecutor with strength 1 edge matrix:\n",
      "2025-02-05 23:35:37.039479: I tensorflow/core/common_runtime/gpu/gpu_device.cc:1165]      \n"
     ]
    },
    {
     "ename": "AttributeError",
     "evalue": "module 'gym' has no attribute 'spaces'",
     "output_type": "error",
     "traceback": [
      "\u001b[0;31m---------------------------------------------------------------------------\u001b[0m",
      "\u001b[0;31mAttributeError\u001b[0m                            Traceback (most recent call last)",
      "\u001b[0;32m/tmp/ipykernel_6832/4106700357.py\u001b[0m in \u001b[0;36m<module>\u001b[0;34m\u001b[0m\n\u001b[1;32m      2\u001b[0m \u001b[0;32mimport\u001b[0m \u001b[0mnumpy\u001b[0m \u001b[0;32mas\u001b[0m \u001b[0mnp\u001b[0m\u001b[0;34m\u001b[0m\u001b[0;34m\u001b[0m\u001b[0m\n\u001b[1;32m      3\u001b[0m \u001b[0msess\u001b[0m \u001b[0;34m=\u001b[0m \u001b[0mtf\u001b[0m\u001b[0;34m.\u001b[0m\u001b[0mSession\u001b[0m\u001b[0;34m(\u001b[0m\u001b[0;34m)\u001b[0m\u001b[0;34m\u001b[0m\u001b[0;34m\u001b[0m\u001b[0m\n\u001b[0;32m----> 4\u001b[0;31m \u001b[0mob_space\u001b[0m \u001b[0;34m=\u001b[0m \u001b[0mgym\u001b[0m\u001b[0;34m.\u001b[0m\u001b[0mspaces\u001b[0m\u001b[0;34m.\u001b[0m\u001b[0mBox\u001b[0m\u001b[0;34m(\u001b[0m\u001b[0mlow\u001b[0m\u001b[0;34m=\u001b[0m\u001b[0;36m0\u001b[0m\u001b[0;34m,\u001b[0m \u001b[0mhigh\u001b[0m\u001b[0;34m=\u001b[0m\u001b[0;36m255\u001b[0m\u001b[0;34m,\u001b[0m \u001b[0mshape\u001b[0m\u001b[0;34m=\u001b[0m\u001b[0;34m(\u001b[0m\u001b[0;36m84\u001b[0m\u001b[0;34m,\u001b[0m \u001b[0;36m84\u001b[0m\u001b[0;34m,\u001b[0m \u001b[0;36m4\u001b[0m\u001b[0;34m)\u001b[0m\u001b[0;34m,\u001b[0m \u001b[0mdtype\u001b[0m\u001b[0;34m=\u001b[0m\u001b[0mnp\u001b[0m\u001b[0;34m.\u001b[0m\u001b[0muint8\u001b[0m\u001b[0;34m)\u001b[0m\u001b[0;34m\u001b[0m\u001b[0;34m\u001b[0m\u001b[0m\n\u001b[0m\u001b[1;32m      5\u001b[0m \u001b[0mac_space\u001b[0m \u001b[0;34m=\u001b[0m \u001b[0mgym\u001b[0m\u001b[0;34m.\u001b[0m\u001b[0mspaces\u001b[0m\u001b[0;34m.\u001b[0m\u001b[0mDiscrete\u001b[0m\u001b[0;34m(\u001b[0m\u001b[0;36m6\u001b[0m\u001b[0;34m)\u001b[0m\u001b[0;34m\u001b[0m\u001b[0;34m\u001b[0m\u001b[0m\n\u001b[1;32m      6\u001b[0m \u001b[0mnenv\u001b[0m \u001b[0;34m=\u001b[0m \u001b[0;36m16\u001b[0m\u001b[0;34m\u001b[0m\u001b[0;34m\u001b[0m\u001b[0m\n",
      "\u001b[0;31mAttributeError\u001b[0m: module 'gym' has no attribute 'spaces'"
     ]
    }
   ],
   "source": [
    "import gym\n",
    "import numpy as np\n",
    "sess = tf.Session()\n",
    "ob_space = gym.spaces.Box(low=0, high=255, shape=(84, 84, 4), dtype=np.uint8)\n",
    "ac_space = gym.spaces.Discrete(6)\n",
    "nenv = 16\n",
    "nsteps = 10\n",
    "nstack = 4\n",
    "\n",
    "model = CnnPolicy(sess, ob_space, ac_space, nenv, 1, nstack, reuse=False)\n"
   ]
  },
  {
   "cell_type": "code",
   "execution_count": 10,
   "metadata": {},
   "outputs": [
    {
     "ename": "AttributeError",
     "evalue": "'Sequential' object has no attribute 'model'",
     "output_type": "error",
     "traceback": [
      "\u001b[0;31m---------------------------------------------------------------------------\u001b[0m",
      "\u001b[0;31mAttributeError\u001b[0m                            Traceback (most recent call last)",
      "\u001b[0;32m/tmp/ipykernel_6832/2640740565.py\u001b[0m in \u001b[0;36m<module>\u001b[0;34m\u001b[0m\n\u001b[1;32m      1\u001b[0m \u001b[0mto_file\u001b[0m\u001b[0;34m=\u001b[0m\u001b[0;34m\"/home/waddason/Documents/Git_Reps/M2DS_2024-2025/20.Reinforcement-learning/Project 2024/ProjectReport/figures/NN_policy_dim.png\"\u001b[0m\u001b[0;34m\u001b[0m\u001b[0;34m\u001b[0m\u001b[0m\n\u001b[1;32m      2\u001b[0m \u001b[0;34m\u001b[0m\u001b[0m\n\u001b[0;32m----> 3\u001b[0;31m \u001b[0mvisualkeras\u001b[0m\u001b[0;34m.\u001b[0m\u001b[0mlayered_view\u001b[0m\u001b[0;34m(\u001b[0m\u001b[0mmodel\u001b[0m\u001b[0;34m.\u001b[0m\u001b[0mmodel\u001b[0m\u001b[0;34m,\u001b[0m \u001b[0mcolor_map\u001b[0m\u001b[0;34m=\u001b[0m\u001b[0mcolor_map\u001b[0m\u001b[0;34m,\u001b[0m \u001b[0mpadding\u001b[0m\u001b[0;34m=\u001b[0m\u001b[0;36m30\u001b[0m\u001b[0;34m,\u001b[0m \u001b[0mfont\u001b[0m\u001b[0;34m=\u001b[0m\u001b[0mfont\u001b[0m\u001b[0;34m,\u001b[0m\u001b[0mtext_callable\u001b[0m\u001b[0;34m=\u001b[0m\u001b[0mtext_callable\u001b[0m\u001b[0;34m,\u001b[0m \u001b[0mlegend\u001b[0m\u001b[0;34m=\u001b[0m\u001b[0;32mTrue\u001b[0m\u001b[0;34m,\u001b[0m \u001b[0mto_file\u001b[0m\u001b[0;34m=\u001b[0m\u001b[0mto_file\u001b[0m\u001b[0;34m)\u001b[0m\u001b[0;34m\u001b[0m\u001b[0;34m\u001b[0m\u001b[0m\n\u001b[0m",
      "\u001b[0;31mAttributeError\u001b[0m: 'Sequential' object has no attribute 'model'"
     ]
    }
   ],
   "source": [
    "to_file=\"/home/waddason/Documents/Git_Reps/M2DS_2024-2025/20.Reinforcement-learning/Project 2024/ProjectReport/figures/NN_policy_dim.png\"\n",
    "\n",
    "visualkeras.layered_view(model.model, color_map=color_map, padding=30, font=font,text_callable=text_callable, legend=True, to_file=to_file)"
   ]
  },
  {
   "cell_type": "code",
   "execution_count": 11,
   "metadata": {},
   "outputs": [
    {
     "ename": "AttributeError",
     "evalue": "'Sequential' object has no attribute 'model'",
     "output_type": "error",
     "traceback": [
      "\u001b[0;31m---------------------------------------------------------------------------\u001b[0m",
      "\u001b[0;31mAttributeError\u001b[0m                            Traceback (most recent call last)",
      "\u001b[0;32m/tmp/ipykernel_6832/99580565.py\u001b[0m in \u001b[0;36m<module>\u001b[0;34m\u001b[0m\n\u001b[1;32m      1\u001b[0m \u001b[0mfont\u001b[0m\u001b[0;34m=\u001b[0m \u001b[0mImageFont\u001b[0m\u001b[0;34m.\u001b[0m\u001b[0mtruetype\u001b[0m\u001b[0;34m(\u001b[0m\u001b[0;34m\"/home/waddason/.local/share/fonts/InconsolataNerdFontMono-Regular.ttf\"\u001b[0m\u001b[0;34m,\u001b[0m \u001b[0;36m16\u001b[0m\u001b[0;34m)\u001b[0m  \u001b[0;31m# using comic sans is strictly prohibited!\u001b[0m\u001b[0;34m\u001b[0m\u001b[0;34m\u001b[0m\u001b[0m\n\u001b[0;32m----> 2\u001b[0;31m \u001b[0mvisualkeras\u001b[0m\u001b[0;34m.\u001b[0m\u001b[0mlayered_view\u001b[0m\u001b[0;34m(\u001b[0m\u001b[0mmodel\u001b[0m\u001b[0;34m.\u001b[0m\u001b[0mmodel\u001b[0m\u001b[0;34m,\u001b[0m \u001b[0mpadding\u001b[0m\u001b[0;34m=\u001b[0m\u001b[0;36m30\u001b[0m\u001b[0;34m,\u001b[0m \u001b[0mfont\u001b[0m\u001b[0;34m=\u001b[0m\u001b[0mfont\u001b[0m\u001b[0;34m,\u001b[0m \u001b[0mcolor_map\u001b[0m\u001b[0;34m=\u001b[0m\u001b[0mcolor_map\u001b[0m\u001b[0;34m,\u001b[0m \u001b[0mtext_callable\u001b[0m\u001b[0;34m=\u001b[0m\u001b[0mtext_callable\u001b[0m\u001b[0;34m,\u001b[0m \u001b[0mlegend\u001b[0m\u001b[0;34m=\u001b[0m\u001b[0;32mTrue\u001b[0m\u001b[0;34m)\u001b[0m\u001b[0;34m\u001b[0m\u001b[0;34m\u001b[0m\u001b[0m\n\u001b[0m",
      "\u001b[0;31mAttributeError\u001b[0m: 'Sequential' object has no attribute 'model'"
     ]
    }
   ],
   "source": [
    "font= ImageFont.truetype(\"/home/waddason/.local/share/fonts/InconsolataNerdFontMono-Regular.ttf\", 16)  # using comic sans is strictly prohibited!\n",
    "visualkeras.layered_view(model.model, padding=30, font=font, color_map=color_map, text_callable=text_callable, legend=True)"
   ]
  },
  {
   "cell_type": "code",
   "execution_count": null,
   "metadata": {},
   "outputs": [],
   "source": []
  },
  {
   "cell_type": "code",
   "execution_count": null,
   "metadata": {},
   "outputs": [],
   "source": []
  }
 ],
 "metadata": {
  "kernelspec": {
   "display_name": "py3.7",
   "language": "python",
   "name": "python3"
  },
  "language_info": {
   "codemirror_mode": {
    "name": "ipython",
    "version": 3
   },
   "file_extension": ".py",
   "mimetype": "text/x-python",
   "name": "python",
   "nbconvert_exporter": "python",
   "pygments_lexer": "ipython3",
   "version": "3.7.12"
  }
 },
 "nbformat": 4,
 "nbformat_minor": 2
}
